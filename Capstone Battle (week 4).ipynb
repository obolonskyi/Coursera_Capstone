{
    "nbformat_minor": 1, 
    "cells": [
        {
            "source": "# Capstone project - IBM Data Science Specialization\n# Leveraging Foursquare data to find best location to open coffee shop in London\nby Misha Obolonskyi  \n03 Oct 2019", 
            "cell_type": "markdown", 
            "metadata": {
                "collapsed": true
            }
        }, 
        {
            "source": "## Index\n1. A description of the problem and a discussion of the background.\n2. A description of the data and how it will be used to solve the problem.\n3. Methodology section which represents the main component of the report where you discuss and describe any exploratory data analysis that you did, any inferential statistical testing that you performed, if any, and what machine learnings were used and why.\n4. Results section where you discuss the results.\n5. Results section where you discuss the results.\n6. Discussion section where you discuss any observations you noted and any recommendations you can make based on the results.\n7. Conclusion section where you conclude the report.", 
            "cell_type": "markdown", 
            "metadata": {}
        }, 
        {
            "source": "## 1. Description of the problem, its background and potential stakeholders", 
            "cell_type": "markdown", 
            "metadata": {}
        }, 
        {
            "source": "Today many investors and cafe owners seek different opportunities to increase revenues. In retail location might be a single most important factor that ultimately decides the success of the business. With this exercice I would like to address the problem of finding the best location for potential place for a coffee bar in London.", 
            "cell_type": "markdown", 
            "metadata": {}
        }, 
        {
            "source": "## 2. Description of the data and how it will be used to solve the problem ", 
            "cell_type": "markdown", 
            "metadata": {}
        }, 
        {
            "source": "Data that I would use:\n1. Foursquare data on different locations, their success, number of reviews, visitors etc\n2. Public data on London about borough economics, demographics etc (https://data.london.gov.uk/)\n3. Miscellaneous data sources to complement core data sets", 
            "cell_type": "markdown", 
            "metadata": {}
        }
    ], 
    "metadata": {
        "kernelspec": {
            "display_name": "Python 3.6", 
            "name": "python3", 
            "language": "python"
        }, 
        "language_info": {
            "mimetype": "text/x-python", 
            "nbconvert_exporter": "python", 
            "version": "3.6.8", 
            "name": "python", 
            "file_extension": ".py", 
            "pygments_lexer": "ipython3", 
            "codemirror_mode": {
                "version": 3, 
                "name": "ipython"
            }
        }
    }, 
    "nbformat": 4
}